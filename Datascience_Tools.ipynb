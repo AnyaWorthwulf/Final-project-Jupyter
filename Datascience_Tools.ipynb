#  Data Science Tools

In this notebook we´ll explore some of the most used tolos and ecosystems in data science

## Languages

Some of them are Python, R, SQL and Scala

## Libraries

Some of the most used are Panda, Scikit leanr and Tensorflow

## Tools

| Data Science Tool      | Description                           |
|------------------------|---------------------------------------|
| Jupyter Notebook      | Interactive coding environment        |
| RStudio              | IDE for R programming                 |
| Apache Hadoop        | Big data processing framework         |
| TensorFlow           | Machine learning library              |
| Power BI             | Data visualization tool               |
| Tableau              | Business intelligence tool            |

## Examples of arithmetic expressions

- Addition: \(3 + 5 = 8\)  
- Subtraction: \(10 - 4 = 6\)  
- Multiplication: \(6 \times 7 = 42\)  
- Division: \(20 \div 4 = 5\)  

a = 5 * 3  
b = a + 10
print(b)

minutes = 150
hours = minutes / 60
print(hours, "hours")

## Author  
**Andy**
