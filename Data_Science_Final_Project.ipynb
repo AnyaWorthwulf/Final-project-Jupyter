{
  "nbformat": 4,
  "nbformat_minor": 0,
  "metadata": {
    "colab": {
      "provenance": [],
      "authorship_tag": "ABX9TyPdmUW7cw3cpSpYL2vaTbs5",
      "include_colab_link": true
    },
    "kernelspec": {
      "name": "python3",
      "display_name": "Python 3"
    },
    "language_info": {
      "name": "python"
    }
  },
  "cells": [
    {
      "cell_type": "markdown",
      "metadata": {
        "id": "view-in-github",
        "colab_type": "text"
      },
      "source": [
        "<a href=\"https://colab.research.google.com/github/AnyaWorthwulf/Final-project-Jupyter/blob/main/Data_Science_Final_Project.ipynb\" target=\"_parent\"><img src=\"https://colab.research.google.com/assets/colab-badge.svg\" alt=\"Open In Colab\"/></a>"
      ]
    },
    {
      "cell_type": "markdown",
      "source": [
        "# DATA SCIENCE\n",
        "In this notebook we will explore some of the most used tools and ecosystems in data science\n",
        "\n",
        "## Languages\n",
        "\n",
        "Some of them are Python, R, SQl and Scala\n",
        "\n",
        "## Libraries\n",
        "Some of the most used are Panda, Scikit learn and Tensorflow"
      ],
      "metadata": {
        "id": "H9CBISI6DzF5"
      }
    },
    {
      "cell_type": "markdown",
      "source": [
        "## Tools\n",
        "| Tools | Description |\n",
        "|-------|-------------|\n",
        "|Jupyter | Interactive coding environment |\n",
        "| RStudio | IDE for R programming |\n",
        "| Apache | Big data processing framework |\n",
        "| Tensorflow | Machine learning library |\n",
        "| Power BI | Data visualization |\n",
        "| Tableau | Business intelligence |"
      ],
      "metadata": {
        "id": "cndGVGR8EZFr"
      }
    },
    {
      "cell_type": "markdown",
      "source": [
        "## Examples of arithmetic expressions\n",
        "\n",
        "- Addition: \\(3 + 5 = 8\\)\n",
        "- Subtraction: \\(10 - 4 = 6\\)\n",
        "- Multiplication: \\(6 \\times 7 = 42\\)\n",
        "- Divison: \\(20 \\div 4 = 5\\)"
      ],
      "metadata": {
        "id": "1FUj2akKE_qw"
      }
    },
    {
      "cell_type": "code",
      "source": [
        "a = 5 * 3\n",
        "b = a + 10\n",
        "print(b)"
      ],
      "metadata": {
        "colab": {
          "base_uri": "https://localhost:8080/"
        },
        "id": "Y5P7wZ-nFXQk",
        "outputId": "e69dbfc4-fe36-4a39-9bc8-936ca3f518e1"
      },
      "execution_count": 1,
      "outputs": [
        {
          "output_type": "stream",
          "name": "stdout",
          "text": [
            "25\n"
          ]
        }
      ]
    },
    {
      "cell_type": "code",
      "source": [
        "minutes = 150\n",
        "hours = minutes / 60\n",
        "print(hours, \"hours\")"
      ],
      "metadata": {
        "colab": {
          "base_uri": "https://localhost:8080/"
        },
        "id": "ClOCNwavFkUL",
        "outputId": "d8e953cc-abda-4246-cf3e-931ec8e4e6c2"
      },
      "execution_count": 2,
      "outputs": [
        {
          "output_type": "stream",
          "name": "stdout",
          "text": [
            "2.5 hours\n"
          ]
        }
      ]
    },
    {
      "cell_type": "code",
      "source": [
        "objectives = [\n",
        "    \"Learn Python\",\n",
        "    \"Learn Machine Learning\",\n",
        "    \"Analyze datasets\",\n",
        "    \"Learn Jupyter\"\n",
        "]\n",
        "\n",
        "for obj in objectives:\n",
        "  print(\"-\", obj)"
      ],
      "metadata": {
        "colab": {
          "base_uri": "https://localhost:8080/"
        },
        "id": "b0tC_BbVFuOJ",
        "outputId": "f5e48059-fc05-4b65-bb81-d935ad64ec41"
      },
      "execution_count": 3,
      "outputs": [
        {
          "output_type": "stream",
          "name": "stdout",
          "text": [
            "- Learn Python\n",
            "- Learn Machine Learning\n",
            "- Analyze datasets\n",
            "- Learn Jupyter\n"
          ]
        }
      ]
    },
    {
      "cell_type": "markdown",
      "source": [
        "## Author\n",
        "**Andy**"
      ],
      "metadata": {
        "id": "FIpzLjIKF-25"
      }
    }
  ]
}